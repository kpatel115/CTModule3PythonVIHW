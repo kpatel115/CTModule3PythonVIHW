{
 "cells": [
  {
   "cell_type": "code",
   "execution_count": 1,
   "id": "2bc21e70",
   "metadata": {},
   "outputs": [
    {
     "name": "stdout",
     "output_type": "stream",
     "text": [
      "64\n"
     ]
    }
   ],
   "source": [
    "# In-Class Exercise # 1 \n",
    "f = lambda num: num**2\n",
    "print(f(8))"
   ]
  },
  {
   "cell_type": "code",
   "execution_count": 3,
   "id": "53e61508",
   "metadata": {},
   "outputs": [
    {
     "name": "stdout",
     "output_type": "stream",
     "text": [
      "[(7, 7), (21, 19), (39, 5), (5, 3), (29, 11)]\n"
     ]
    }
   ],
   "source": [
    "# In-Class Exercise #2\n",
    "        \n",
    "numbers = [4, 11, 20, 3, 15, 20]\n",
    "more_nums = [4, 10, 3, 2, 6]\n",
    "\n",
    "doubleMinus = list(map(lambda x, y: ((x * 2) - 1, (y *2) - 1) if x > 0 and y > 0 else (x, y), numbers, more_nums))\n",
    "print(doubleMinus)"
   ]
  },
  {
   "cell_type": "code",
   "execution_count": 4,
   "id": "2b248474",
   "metadata": {},
   "outputs": [
    {
     "name": "stdout",
     "output_type": "stream",
     "text": [
      "[4, 11, 3]\n",
      "[4, 10, 3, 2, 6]\n"
     ]
    }
   ],
   "source": [
    "# In-Class Exercise #3\n",
    "import statistics\n",
    "\n",
    "# lists\n",
    "numbers = [4, 11, 20, 3, 15, 20]\n",
    "more_nums = [4, 10, 3, 2, 6]\n",
    "\n",
    "# calculate the mean\n",
    "numbers_avg = statistics.mean(numbers)\n",
    "more_nums_avg = statistics.mean(more_nums)\n",
    "\n",
    "numbers_filter = list(filter(lambda num: True if num < numbers_avg else False, numbers))\n",
    "more_nums_filter = list(filter(lambda num1: True if num1 < numbers_avg else False, more_nums))\n",
    "\n",
    "print(numbers_filter)\n",
    "print(more_nums_filter)"
   ]
  },
  {
   "cell_type": "code",
   "execution_count": 6,
   "id": "95c4892c",
   "metadata": {},
   "outputs": [
    {
     "name": "stdout",
     "output_type": "stream",
     "text": [
      "24\n"
     ]
    }
   ],
   "source": [
    "# In-Class Exercise #4\n",
    "from functools import reduce\n",
    "\n",
    "my_list = [1,2,3,4]\n",
    "resultMulLamb = reduce(lambda x, y: x * y, my_list)\n",
    "print(resultMulLamb)"
   ]
  },
  {
   "cell_type": "code",
   "execution_count": 7,
   "id": "08797520",
   "metadata": {},
   "outputs": [
    {
     "name": "stdout",
     "output_type": "stream",
     "text": [
      "Base Case Not Reached\n",
      "Base Case Not Reached\n",
      "Base Case Not Reached\n",
      "Base Case Not Reached\n",
      "Base Case Not Reached\n",
      "Base Case Not Reached\n",
      "Base Case Not Reached\n",
      "Base Case Not Reached\n",
      "Base Case Not Reached\n",
      "Base Case Not Reached\n",
      "Base Case Not Reached\n",
      "Base Case Not Reached\n",
      "Base Case Not Reached\n",
      "Base Case Not Reached\n",
      "Base Case Not Reached\n",
      "Base Case Not Reached\n",
      "Base Case Not Reached\n",
      "Base Case Not Reached\n",
      "Base Case Not Reached\n",
      "Base Case Reached\n"
     ]
    },
    {
     "data": {
      "text/plain": [
       "10"
      ]
     },
     "execution_count": 7,
     "metadata": {},
     "output_type": "execute_result"
    }
   ],
   "source": [
    "# In-Class Exercise #5\n",
    "def recursiveFunc(num):\n",
    "    if num <= 1:\n",
    "        print(\"Base Case Reached\")\n",
    "        return num\n",
    "    else:\n",
    "        print(\"Base Case Not Reached\")\n",
    "        return num - recursiveFunc(num - 1)\n",
    "                \n",
    "recursiveFunc(20)"
   ]
  },
  {
   "cell_type": "code",
   "execution_count": 21,
   "id": "3ab05b8e",
   "metadata": {},
   "outputs": [
    {
     "name": "stdout",
     "output_type": "stream",
     "text": [
      "2\n",
      "4\n",
      "6\n",
      "8\n",
      "10\n",
      "12\n",
      "14\n",
      "16\n",
      "18\n",
      "20\n"
     ]
    },
    {
     "data": {
      "text/plain": [
       "<generator object squaredGenerator at 0x000001A6A97F3E40>"
      ]
     },
     "execution_count": 21,
     "metadata": {},
     "output_type": "execute_result"
    }
   ],
   "source": [
    "# In-Class Exercise #6\n",
    "def squaredGenerator(numStop, num, step=2):\n",
    "    while num <= numStop:\n",
    "        yield num # yield keyword denotes a generator\n",
    "        num ** 2\n",
    "        num += step\n",
    "    \n",
    "for i in squaredGenerator(20,2,2):\n",
    "    my_generator_value = i\n",
    "    print(my_generator_value)\n",
    "    \n",
    "squaredGenerator(20, 10)"
   ]
  },
  {
   "cell_type": "markdown",
   "id": "e4719527",
   "metadata": {},
   "source": [
    "### Exercise #1 <br>\n",
    "<p>Filter out all of the empty strings from the list below</p>\n",
    "\n",
    "`Output: ['Argentina', 'San Diego', 'Boston', 'New York']`"
   ]
  },
  {
   "cell_type": "code",
   "execution_count": 4,
   "id": "67244674",
   "metadata": {},
   "outputs": [
    {
     "data": {
      "text/plain": [
       "['Argentina', 'San Diego', 'Boston', 'New York']"
      ]
     },
     "execution_count": 4,
     "metadata": {},
     "output_type": "execute_result"
    }
   ],
   "source": [
    "places = [\" \",\"Argentina\", \" \", \"San Diego\",\"\",\"  \",\"\",\"Boston\",\"New York\"]\n",
    "\n",
    "\n",
    "list(filter(str.strip, places))"
   ]
  },
  {
   "cell_type": "markdown",
   "id": "7b5f0844",
   "metadata": {},
   "source": [
    "### Exercise #2 <br>\n",
    "<p>Write an anonymous function that sorts this list by the last name...<br><b>Hint: Use the \".sort()\" method and access the key\"</b></p>\n",
    "\n",
    "`Output: ['Victor aNisimov', 'Gary A.J. Bernstein', 'Joel Carter', 'Andrew P. Garfield', 'David hassELHOFF']`"
   ]
  },
  {
   "cell_type": "code",
   "execution_count": 79,
   "id": "9b9f5d9c",
   "metadata": {},
   "outputs": [
    {
     "name": "stdout",
     "output_type": "stream",
     "text": [
      "['Victor aNisimov', 'Gary A.J. Bernstein', 'Joel Carter', 'Andrew P. Garfield', 'David hassELHOFF']\n"
     ]
    }
   ],
   "source": [
    "author = [\"Joel Carter\", \"Victor aNisimov\", \"Andrew P. Garfield\",\"David hassELHOFF\",\"Gary A.J. Bernstein\"]\n",
    "#lambda function with sorted method\n",
    "sorted_authors = sorted(author, key=lambda x: x.lower().split()[-1])\n",
    "print(sorted_authors)"
   ]
  },
  {
   "cell_type": "markdown",
   "id": "63cc2d79",
   "metadata": {},
   "source": [
    "### Exercise #3 <br>\n",
    "<p>Convert the list below from Celsius to Farhenheit, using the map function with a lambda...</p>\n",
    "\n",
    "`Output: [('Nashua', 89.6), ('Boston', 53.6), ('Los Angelos', 111.2), ('Miami', 84.2)]\n",
    "`"
   ]
  },
  {
   "cell_type": "code",
   "execution_count": 34,
   "id": "cd1334a0",
   "metadata": {},
   "outputs": [
    {
     "name": "stdout",
     "output_type": "stream",
     "text": [
      "[('Nashua', 89.6), ('Boston', 53.6), ('Los Angelos', 111.2), ('Miami', 84.2)]\n"
     ]
    }
   ],
   "source": [
    "# F = (9/5)*C + 32\n",
    "places = [('Nashua',32),(\"Boston\",12),(\"Los Angelos\",44),(\"Miami\",29)]\n",
    "\n",
    "updated_places = list(map(lambda x: (x[0],(9/5)*x[1] + 32) , places))\n",
    "print(updated_places)\n"
   ]
  },
  {
   "cell_type": "markdown",
   "id": "9c6b4d6e",
   "metadata": {},
   "source": [
    "### Exercise #4 <br>\n",
    "<p>Write a recursion function to perform the fibonacci sequence up to the number passed in.</p>\n",
    "\n",
    "`Output for fib(5) => \n",
    "Iteration 0: 1\n",
    "Iteration 1: 1\n",
    "Iteration 2: 2\n",
    "Iteration 3: 3\n",
    "Iteration 4: 5\n",
    "Iteration 5: 8`"
   ]
  },
  {
   "cell_type": "code",
   "execution_count": 5,
   "id": "5dced2ae",
   "metadata": {},
   "outputs": [
    {
     "name": "stdout",
     "output_type": "stream",
     "text": [
      "Iteration 0: 0\n",
      "Iteration 1: 1\n",
      "Iteration 2: 1\n",
      "Iteration 3: 2\n",
      "Iteration 4: 3\n",
      "Iteration 5: 5\n",
      "Iteration 6: 8\n"
     ]
    }
   ],
   "source": [
    "def fib(n):\n",
    "    if n <= 1:\n",
    "        return n\n",
    "    else:\n",
    "        return(fib(n-1) + fib(n-2))\n",
    "    \n",
    "nNum = 7\n",
    "if nNum <= 0:\n",
    "    print('enter valid num')\n",
    "else:\n",
    "    for x in range(nNum):\n",
    "        print(f\"Iteration {x}: {fib(x)}\")"
   ]
  }
 ],
 "metadata": {
  "kernelspec": {
   "display_name": "Python 3 (ipykernel)",
   "language": "python",
   "name": "python3"
  },
  "language_info": {
   "codemirror_mode": {
    "name": "ipython",
    "version": 3
   },
   "file_extension": ".py",
   "mimetype": "text/x-python",
   "name": "python",
   "nbconvert_exporter": "python",
   "pygments_lexer": "ipython3",
   "version": "3.9.13"
  }
 },
 "nbformat": 4,
 "nbformat_minor": 5
}
